{
 "cells": [
  {
   "cell_type": "code",
   "execution_count": 14,
   "metadata": {},
   "outputs": [
    {
     "data": {
      "text/plain": [
       "'/Users/ar660763/Google Drive/Y-DATA/kaggle/plant_pathology/notebooks'"
      ]
     },
     "execution_count": 14,
     "metadata": {},
     "output_type": "execute_result"
    }
   ],
   "source": [
    "pwd"
   ]
  },
  {
   "cell_type": "code",
   "execution_count": 15,
   "metadata": {},
   "outputs": [
    {
     "name": "stdout",
     "output_type": "stream",
     "text": [
      "\u001b[34mimages\u001b[m\u001b[m/                test.csv\r\n",
      "sample_submission.csv  train.csv\r\n"
     ]
    }
   ],
   "source": [
    "ls '../input/'"
   ]
  },
  {
   "cell_type": "code",
   "execution_count": 27,
   "metadata": {},
   "outputs": [],
   "source": [
    "import numpy as np\n",
    "import pandas as pd\n",
    "import albumentations as A\n",
    "from albumentations.pytorch import ToTensorV2\n",
    "\n",
    "import torch\n",
    "import torch.nn as nn\n",
    "import torch.nn.functional as f\n",
    "import torch.optim as optim\n",
    "from torch.utils.data import Dataset,DataLoader,random_split\n",
    "\n",
    "import torchvision\n",
    "\n",
    "import cv2\n",
    "\n",
    "from sklearn.metrics import roc_auc_score as auc\n",
    "\n",
    "import matplotlib.pyplot as plt\n",
    "%matplotlib inline\n",
    "\n",
    "\n",
    "INPUT_DIR = '../input/'"
   ]
  },
  {
   "cell_type": "code",
   "execution_count": 17,
   "metadata": {},
   "outputs": [
    {
     "data": {
      "text/plain": [
       "['../input/images/Test_588.jpg',\n",
       " '../input/images/Train_1088.jpg',\n",
       " '../input/images/Train_364.jpg',\n",
       " '../input/images/Test_1270.jpg',\n",
       " '../input/images/Train_1705.jpg']"
      ]
     },
     "execution_count": 17,
     "metadata": {},
     "output_type": "execute_result"
    }
   ],
   "source": [
    "import glob\n",
    "filelist = glob.glob(INPUT_DIR + 'images/*.jpg')\n",
    "filelist[:5]"
   ]
  },
  {
   "cell_type": "code",
   "execution_count": 18,
   "metadata": {},
   "outputs": [
    {
     "data": {
      "text/html": [
       "<div>\n",
       "<style scoped>\n",
       "    .dataframe tbody tr th:only-of-type {\n",
       "        vertical-align: middle;\n",
       "    }\n",
       "\n",
       "    .dataframe tbody tr th {\n",
       "        vertical-align: top;\n",
       "    }\n",
       "\n",
       "    .dataframe thead th {\n",
       "        text-align: right;\n",
       "    }\n",
       "</style>\n",
       "<table border=\"1\" class=\"dataframe\">\n",
       "  <thead>\n",
       "    <tr style=\"text-align: right;\">\n",
       "      <th></th>\n",
       "      <th>image_id</th>\n",
       "      <th>healthy</th>\n",
       "      <th>multiple_diseases</th>\n",
       "      <th>rust</th>\n",
       "      <th>scab</th>\n",
       "    </tr>\n",
       "  </thead>\n",
       "  <tbody>\n",
       "    <tr>\n",
       "      <th>0</th>\n",
       "      <td>Train_0</td>\n",
       "      <td>0</td>\n",
       "      <td>0</td>\n",
       "      <td>0</td>\n",
       "      <td>1</td>\n",
       "    </tr>\n",
       "    <tr>\n",
       "      <th>1</th>\n",
       "      <td>Train_1</td>\n",
       "      <td>0</td>\n",
       "      <td>1</td>\n",
       "      <td>0</td>\n",
       "      <td>0</td>\n",
       "    </tr>\n",
       "    <tr>\n",
       "      <th>2</th>\n",
       "      <td>Train_2</td>\n",
       "      <td>1</td>\n",
       "      <td>0</td>\n",
       "      <td>0</td>\n",
       "      <td>0</td>\n",
       "    </tr>\n",
       "    <tr>\n",
       "      <th>3</th>\n",
       "      <td>Train_3</td>\n",
       "      <td>0</td>\n",
       "      <td>0</td>\n",
       "      <td>1</td>\n",
       "      <td>0</td>\n",
       "    </tr>\n",
       "    <tr>\n",
       "      <th>4</th>\n",
       "      <td>Train_4</td>\n",
       "      <td>1</td>\n",
       "      <td>0</td>\n",
       "      <td>0</td>\n",
       "      <td>0</td>\n",
       "    </tr>\n",
       "  </tbody>\n",
       "</table>\n",
       "</div>"
      ],
      "text/plain": [
       "  image_id  healthy  multiple_diseases  rust  scab\n",
       "0  Train_0        0                  0     0     1\n",
       "1  Train_1        0                  1     0     0\n",
       "2  Train_2        1                  0     0     0\n",
       "3  Train_3        0                  0     1     0\n",
       "4  Train_4        1                  0     0     0"
      ]
     },
     "execution_count": 18,
     "metadata": {},
     "output_type": "execute_result"
    }
   ],
   "source": [
    "df = pd.read_csv(INPUT_DIR + 'train.csv')\n",
    "df.head()"
   ]
  },
  {
   "cell_type": "code",
   "execution_count": 19,
   "metadata": {},
   "outputs": [
    {
     "data": {
      "text/html": [
       "<div>\n",
       "<style scoped>\n",
       "    .dataframe tbody tr th:only-of-type {\n",
       "        vertical-align: middle;\n",
       "    }\n",
       "\n",
       "    .dataframe tbody tr th {\n",
       "        vertical-align: top;\n",
       "    }\n",
       "\n",
       "    .dataframe thead th {\n",
       "        text-align: right;\n",
       "    }\n",
       "</style>\n",
       "<table border=\"1\" class=\"dataframe\">\n",
       "  <thead>\n",
       "    <tr style=\"text-align: right;\">\n",
       "      <th></th>\n",
       "      <th>image_id</th>\n",
       "      <th>healthy</th>\n",
       "      <th>multiple_diseases</th>\n",
       "      <th>rust</th>\n",
       "      <th>scab</th>\n",
       "      <th>target</th>\n",
       "    </tr>\n",
       "  </thead>\n",
       "  <tbody>\n",
       "    <tr>\n",
       "      <th>0</th>\n",
       "      <td>Train_0</td>\n",
       "      <td>0</td>\n",
       "      <td>0</td>\n",
       "      <td>0</td>\n",
       "      <td>1</td>\n",
       "      <td>3</td>\n",
       "    </tr>\n",
       "    <tr>\n",
       "      <th>1</th>\n",
       "      <td>Train_1</td>\n",
       "      <td>0</td>\n",
       "      <td>1</td>\n",
       "      <td>0</td>\n",
       "      <td>0</td>\n",
       "      <td>1</td>\n",
       "    </tr>\n",
       "    <tr>\n",
       "      <th>2</th>\n",
       "      <td>Train_2</td>\n",
       "      <td>1</td>\n",
       "      <td>0</td>\n",
       "      <td>0</td>\n",
       "      <td>0</td>\n",
       "      <td>0</td>\n",
       "    </tr>\n",
       "    <tr>\n",
       "      <th>3</th>\n",
       "      <td>Train_3</td>\n",
       "      <td>0</td>\n",
       "      <td>0</td>\n",
       "      <td>1</td>\n",
       "      <td>0</td>\n",
       "      <td>2</td>\n",
       "    </tr>\n",
       "    <tr>\n",
       "      <th>4</th>\n",
       "      <td>Train_4</td>\n",
       "      <td>1</td>\n",
       "      <td>0</td>\n",
       "      <td>0</td>\n",
       "      <td>0</td>\n",
       "      <td>0</td>\n",
       "    </tr>\n",
       "  </tbody>\n",
       "</table>\n",
       "</div>"
      ],
      "text/plain": [
       "  image_id  healthy  multiple_diseases  rust  scab  target\n",
       "0  Train_0        0                  0     0     1       3\n",
       "1  Train_1        0                  1     0     0       1\n",
       "2  Train_2        1                  0     0     0       0\n",
       "3  Train_3        0                  0     1     0       2\n",
       "4  Train_4        1                  0     0     0       0"
      ]
     },
     "execution_count": 19,
     "metadata": {},
     "output_type": "execute_result"
    }
   ],
   "source": [
    "df['target'] = np.argmax(df.iloc[:,1:].values, axis=1)\n",
    "df.head()"
   ]
  },
  {
   "cell_type": "code",
   "execution_count": 20,
   "metadata": {},
   "outputs": [],
   "source": [
    "class PlantDataset(Dataset):\n",
    "    def __init__(self,df,transforms=None):\n",
    "        super().__init__()\n",
    "        self.df = df\n",
    "        self.transforms = transforms\n",
    "    \n",
    "    def __len__(self):\n",
    "        return self.df.shape[0]\n",
    "    \n",
    "    def __getitem__(self,idx):\n",
    "        img_path = INPUT_DIR + 'images/' + self.df.loc[idx,'image_id'] + '.jpg'\n",
    "        img = cv2.imread(img_path)\n",
    "        img = cv2.cvtColor(img,cv2.COLOR_BGR2RGB) # because cv2 reads image as BGR and we want RGB\n",
    "        label = np.expand_dims(self.df.target.loc[idx], axis=-1)\n",
    "        label = torch.from_numpy(label.astype(np.int8))\n",
    "        if not self.transforms is None:\n",
    "            transformed_img = self.transforms(image=img)\n",
    "            img = transformed_img['image']\n",
    "        return img, label    \n",
    "        \n",
    "        "
   ]
  },
  {
   "cell_type": "code",
   "execution_count": 21,
   "metadata": {},
   "outputs": [
    {
     "name": "stderr",
     "output_type": "stream",
     "text": [
      "Clipping input data to the valid range for imshow with RGB data ([0..1] for floats or [0..255] for integers).\n"
     ]
    },
    {
     "name": "stdout",
     "output_type": "stream",
     "text": [
      "(1365, 2048, 3)\n"
     ]
    },
    {
     "data": {
      "text/plain": [
       "<matplotlib.image.AxesImage at 0x7fd45be555f8>"
      ]
     },
     "execution_count": 21,
     "metadata": {},
     "output_type": "execute_result"
    },
    {
     "data": {
      "image/png": "[encoded data removed]",
      "text/plain": [
       "<Figure size 432x288 with 1 Axes>"
      ]
     },
     "metadata": {
      "needs_background": "light"
     },
     "output_type": "display_data"
    }
   ],
   "source": [
    "#train_ds = PlantDataset(df) # orig image\n",
    "train_ds = PlantDataset(df,A.Normalize()) # with transform applied\n",
    "print(train_ds[1][0].shape) # dims of a single image: (1365, 2048, 3)\n",
    "\n",
    "plt.imshow(train_ds[2][0])"
   ]
  },
  {
   "cell_type": "code",
   "execution_count": 22,
   "metadata": {},
   "outputs": [],
   "source": [
    "# To visualize the backbone (resnet) model we will use\n",
    "#temp_model = torchvision.models.resnet18(pretrained=True)\n",
    "#temp_model"
   ]
  },
  {
   "cell_type": "code",
   "execution_count": 84,
   "metadata": {},
   "outputs": [],
   "source": [
    "class PlantModel(nn.Module):\n",
    "    def __init__(self, num_classes, only_train_last_layer):\n",
    "        super().__init__()\n",
    "        self.num_classes = num_classes\n",
    "        self.backbone = torchvision.models.resnet18(pretrained=True)\n",
    "        if only_train_last_layer:\n",
    "            for param in self.backbone.parameters():\n",
    "                param.requires_grad = False     \n",
    "        # We can either specify the full model and then add this at the end\n",
    "        # self.last = nn.Linear(in_features=self.backbone.fc.in_features, out_features=self.num_classes, bias=True)\n",
    "        # Or use the quick and easy approach where we replace the last layer:\n",
    "        self.backbone.fc = nn.Linear(in_features=self.backbone.fc.in_features, out_features=self.num_classes, bias=True)\n",
    "        \n",
    "    def forward(self, x):\n",
    "        # The full approach:\n",
    "        #x = self.backbone.conv1(x)\n",
    "        #x = self.backbone.bn1(x)\n",
    "        #... etc\n",
    "        #x = self.last(x)\n",
    "        # But care needs to be taken to get everything right, e.g., maybe there are some dimensions changes etc.\n",
    "        #\n",
    "        # Quick and easy approach:\n",
    "        x = self.backbone(x)\n",
    "        return x\n",
    "        \n",
    "        \n",
    "        \n",
    "        "
   ]
  },
  {
   "cell_type": "code",
   "execution_count": 85,
   "metadata": {},
   "outputs": [],
   "source": [
    "#model = PlantModel(4, True)\n",
    "#model"
   ]
  },
  {
   "cell_type": "markdown",
   "metadata": {},
   "source": [
    "Differences between train and validation loader:\n",
    "1. The data that is loaded\n",
    "2. Shuffling (possibly?)\n",
    "3. Augmentation transforms are applied to train but not validation. For training we would like to get slightly different image. For validation, if we do this we might get improvement that is not due to the algorithm but rather is due to the change we made to the image. Thus for validation we would not do any such stochastic augmentation. Only do transformations that are the same for all processes (??)"
   ]
  },
  {
   "cell_type": "markdown",
   "metadata": {},
   "source": [
    "The criterion we will use is CrossEntropy loss which returns logits (not the softmax), thus we do not need softmax as the final layer of the model. But we do use in in computing the predictions. See below."
   ]
  },
  {
   "cell_type": "code",
   "execution_count": 86,
   "metadata": {},
   "outputs": [],
   "source": [
    "num_epochs = 10\n",
    "if torch.has_cuda:\n",
    "    device = torch.device('cuda:0')\n",
    "else:\n",
    "    device = torch.device('cpu:0')\n",
    "\n",
    "def train_single_fold(fold, tr_loader, val_loader, model, criterion, optimizer):\n",
    "    training_log = [] # results for each of the epochs so that we have the log of what went on during training\n",
    "    \n",
    "    print('Starting training, fold: %d' % fold)\n",
    "\n",
    "    # this can be done externally (to the function) as well\n",
    "    if torch.has_cuda:\n",
    "        model.cuda()\n",
    "        \n",
    "    for epoch in range(num_epochs):        \n",
    "        # training loop\n",
    "        model.train()\n",
    "        tr_loss = 0\n",
    "\n",
    "        for step, batch in enumerate(tr_loader):\n",
    "            imgs, labels = batch\n",
    "            # appears we need to reshape this since it arrives as (batch_size x 1365,2048,3)\n",
    "            # but pytorch expects the channels to be first)\n",
    "            imgs = imgs.view(imgs.shape[0],3,1365,2048) \n",
    "            imgs.to(device,dtype=torch.float)\n",
    "            labels.to(device) #labels.to(device,dtype=torch.long)\n",
    "            outputs = model(imgs)\n",
    "            #print(outputs)\n",
    "            #print(labels)\n",
    "            #labels = labels.long()\n",
    "            #print(labels)\n",
    "            loss = criterion(outputs,torch.squeeze(labels.long())) # may need to squeeze labels; and convert to long\n",
    "            loss.backward()\n",
    "            tr_loss += loss.item()\n",
    "            optimizer.step()\n",
    "            optimizer.zero_grad()\n",
    "            print('Finished batch: %d, training loss = %f' % (step,loss.item()))\n",
    "    \n",
    "        # evaluation loop\n",
    "        model.eval()\n",
    "        val_loss = 0\n",
    "        val_preds = None\n",
    "        val_labels = None\n",
    "        \n",
    "        for step, batch in enumerate(val_loader):\n",
    "            imgs, labels = batch\n",
    "\n",
    "            # save the labels\n",
    "            if val_labels is None:\n",
    "                val_labels = labels\n",
    "            else:\n",
    "                val_labels = torch.cat((val_labels, labels), dim=0)\n",
    "\n",
    "            imgs = imgs.view(imgs.shape[0],3,1365,2048)     \n",
    "            imgs.to(device,dtype=torch.float)\n",
    "            labels.to(device,dtype=torch.long)\n",
    "            outputs = model(imgs)\n",
    "            loss = criterion(outputs,torch.squeeze(labels.long())) # may need to squeeze labels\n",
    "            val_loss += loss.item()\n",
    "\n",
    "            preds = torch.softmax(outputs,dims=1).cpu()  # to cpu because we want to have the preds as numpy; Nati wasn't sure if this was needed. \n",
    "            \n",
    "            # save the preds\n",
    "            if val_preds is None:\n",
    "                val_preds = preds\n",
    "            else:\n",
    "                val_preds = torch.cat((val_preds, preds), dim=0)\n",
    "                \n",
    "        training_log.append({\n",
    "            'epoch' : epoch,\n",
    "            'train_loss' : tr_loss / len(tr_loader),\n",
    "            'validation_loss' : val_loss / len(val_loader),\n",
    "            'val_preds' : val_preds,\n",
    "            'val_score' : auc(torch.from_numpy(pd.get_dummies(val_labels).values), val_preds, average='macro')\n",
    "        })\n",
    "            \n",
    "    return val_preds, training_log\n",
    "            \n",
    "            "
   ]
  },
  {
   "cell_type": "code",
   "execution_count": 81,
   "metadata": {},
   "outputs": [
    {
     "data": {
      "text/plain": [
       "(1821, 6)"
      ]
     },
     "execution_count": 81,
     "metadata": {},
     "output_type": "execute_result"
    }
   ],
   "source": [
    "df.shape"
   ]
  },
  {
   "cell_type": "code",
   "execution_count": 87,
   "metadata": {},
   "outputs": [],
   "source": [
    "# create train and val loaders\n",
    "# train_ds is the dataset we created with all of the data\n",
    "tr_ds, val_ds = random_split(train_ds, (1400,421))\n",
    "\n",
    "tr_loader = DataLoader(tr_ds,batch_size=5,shuffle=True, num_workers=0)\n",
    "val_loader = DataLoader(val_ds,batch_size=1, num_workers=0)"
   ]
  },
  {
   "cell_type": "code",
   "execution_count": null,
   "metadata": {},
   "outputs": [
    {
     "name": "stdout",
     "output_type": "stream",
     "text": [
      "Starting training, fold: 1\n"
     ]
    }
   ],
   "source": [
    "%%time\n",
    "criterion = nn.CrossEntropyLoss()\n",
    "optimizer = optim.Adam(model.parameters(), lr=0.001)\n",
    "model = PlantModel(num_classes=4, only_train_last_layer=True)\n",
    "\n",
    "    \n",
    "train_single_fold(1, tr_loader, val_loader, model, criterion, optimizer)\n"
   ]
  },
  {
   "cell_type": "code",
   "execution_count": 52,
   "metadata": {},
   "outputs": [
    {
     "data": {
      "text/plain": [
       "2048"
      ]
     },
     "execution_count": 52,
     "metadata": {},
     "output_type": "execute_result"
    }
   ],
   "source": [
    "it = iter(val_loader)\n",
    "#it.next()[0].view(1,3,1365,2048).shape\n",
    "img, label = it.next()\n",
    "img.shape[2]"
   ]
  },
  {
   "cell_type": "code",
   "execution_count": null,
   "metadata": {},
   "outputs": [],
   "source": []
  }
 ],
 "metadata": {
  "kernelspec": {
   "display_name": "Python 3",
   "language": "python",
   "name": "python3"
  },
  "language_info": {
   "codemirror_mode": {
    "name": "ipython",
    "version": 3
   },
   "file_extension": ".py",
   "mimetype": "text/x-python",
   "name": "python",
   "nbconvert_exporter": "python",
   "pygments_lexer": "ipython3",
   "version": "3.6.10"
  }
 },
 "nbformat": 4,
 "nbformat_minor": 2
}
